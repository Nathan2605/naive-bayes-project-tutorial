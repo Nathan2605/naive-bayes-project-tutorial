{
  "nbformat": 4,
  "nbformat_minor": 0,
  "metadata": {
    "colab": {
      "provenance": [],
      "authorship_tag": "ABX9TyPUAzJE/TzwtSpN1EfyoDdM",
      "include_colab_link": true
    },
    "kernelspec": {
      "name": "python3",
      "display_name": "Python 3"
    },
    "language_info": {
      "name": "python"
    }
  },
  "cells": [
    {
      "cell_type": "markdown",
      "metadata": {
        "id": "view-in-github",
        "colab_type": "text"
      },
      "source": [
        "<a href=\"https://colab.research.google.com/github/Nathan2605/naive-bayes-project-tutorial/blob/main/proyecto4geeks_NaiveBayes_NH.ipynb\" target=\"_parent\"><img src=\"https://colab.research.google.com/assets/colab-badge.svg\" alt=\"Open In Colab\"/></a>"
      ]
    },
    {
      "cell_type": "code",
      "execution_count": 1,
      "metadata": {
        "id": "UXhIAJy1tfzV"
      },
      "outputs": [],
      "source": [
        "import pandas as pd\n",
        "import numpy as np\n",
        "import re\n",
        "import scipy.stats as stats\n",
        "\n",
        "from sklearn.model_selection import train_test_split\n",
        "from sklearn.feature_extraction.text import CountVectorizer\n",
        "\n",
        "from sklearn.naive_bayes import GaussianNB\n",
        "from sklearn.naive_bayes import MultinomialNB\n",
        "from sklearn.naive_bayes import BernoulliNB\n",
        "from sklearn.linear_model import LogisticRegression\n",
        "from sklearn.svm import SVC\n",
        "\n",
        "from sklearn.metrics import classification_report\n",
        "from sklearn.model_selection import GridSearchCV\n",
        "from sklearn.model_selection import RandomizedSearchCV\n",
        "from sklearn.model_selection import RepeatedStratifiedKFold"
      ]
    },
    {
      "cell_type": "markdown",
      "source": [
        "####DATA"
      ],
      "metadata": {
        "id": "71HMOuR3x4fJ"
      }
    },
    {
      "cell_type": "code",
      "source": [
        "url = 'https://raw.githubusercontent.com/4GeeksAcademy/naive-bayes-project-tutorial/main/playstore_reviews.csv'\n",
        "df = pd.read_csv(url)"
      ],
      "metadata": {
        "id": "MJqd3yZtvQzN"
      },
      "execution_count": 2,
      "outputs": []
    },
    {
      "cell_type": "code",
      "source": [
        "def pre_clean(x):\n",
        "  x = str(x)\n",
        "  x = x.lower()\n",
        "  x = x.lstrip()\n",
        "  x = re.sub(r'\\s+','', x)\n",
        "  return x"
      ],
      "metadata": {
        "id": "udDt4jyw8skd"
      },
      "execution_count": 3,
      "outputs": []
    },
    {
      "cell_type": "code",
      "source": [
        "df.drop(columns='package_name', inplace=True) #eliminar columna que no aporta\n",
        "df['review'] = df['review'].str.lower() #pasar minuscula\n",
        "df['review'] = df['review'].apply(lambda x: pre_clean(x)) #eliminar espacios"
      ],
      "metadata": {
        "id": "92hvdAJvyAcX"
      },
      "execution_count": 4,
      "outputs": []
    },
    {
      "cell_type": "code",
      "source": [
        "#split\n",
        "X = df['review']\n",
        "y = df['polarity']\n",
        "X_train, X_test, y_train, y_test = train_test_split(X, y, test_size=0.2, random_state=42)"
      ],
      "metadata": {
        "id": "HSLIRRke8Lwl"
      },
      "execution_count": 5,
      "outputs": []
    },
    {
      "cell_type": "code",
      "source": [
        "#vectorizar - crear matriz de recuento de palabras\n",
        "vec_model = CountVectorizer(stop_words = \"english\")\n",
        "X_train = vec_model.fit_transform(X_train).toarray()\n",
        "X_test = vec_model.transform(X_test).toarray()"
      ],
      "metadata": {
        "id": "IJIxt8SbAlxG"
      },
      "execution_count": 6,
      "outputs": []
    },
    {
      "cell_type": "markdown",
      "source": [
        "####NaiveBayes"
      ],
      "metadata": {
        "id": "9JIvKz38CYZX"
      }
    },
    {
      "cell_type": "code",
      "source": [
        "#MultinomialNB\n",
        "model = MultinomialNB()\n",
        "model.fit(X_train, y_train)\n",
        "\n",
        "y_pred = model.predict(X_test)\n",
        "\n",
        "print(classification_report(y_test, y_pred))"
      ],
      "metadata": {
        "colab": {
          "base_uri": "https://localhost:8080/"
        },
        "id": "k4RHCza6DeKF",
        "outputId": "88ec9846-e6a2-45d3-bf5d-d8076b35c63a"
      },
      "execution_count": 7,
      "outputs": [
        {
          "output_type": "stream",
          "name": "stdout",
          "text": [
            "              precision    recall  f1-score   support\n",
            "\n",
            "           0       0.73      0.97      0.84       126\n",
            "           1       0.69      0.17      0.27        53\n",
            "\n",
            "    accuracy                           0.73       179\n",
            "   macro avg       0.71      0.57      0.55       179\n",
            "weighted avg       0.72      0.73      0.67       179\n",
            "\n"
          ]
        }
      ]
    },
    {
      "cell_type": "code",
      "source": [
        "#BernoulliNB\n",
        "model2 = BernoulliNB()\n",
        "model2.fit(X_train, y_train)\n",
        "\n",
        "y_pred2 = model2.predict(X_test)\n",
        "\n",
        "print(classification_report(y_test, y_pred2))"
      ],
      "metadata": {
        "colab": {
          "base_uri": "https://localhost:8080/"
        },
        "id": "gcak_zZhDtDu",
        "outputId": "21a657e1-5cf0-4e86-9236-75e7b95513af"
      },
      "execution_count": 8,
      "outputs": [
        {
          "output_type": "stream",
          "name": "stdout",
          "text": [
            "              precision    recall  f1-score   support\n",
            "\n",
            "           0       0.71      1.00      0.83       126\n",
            "           1       1.00      0.04      0.07        53\n",
            "\n",
            "    accuracy                           0.72       179\n",
            "   macro avg       0.86      0.52      0.45       179\n",
            "weighted avg       0.80      0.72      0.61       179\n",
            "\n"
          ]
        }
      ]
    },
    {
      "cell_type": "code",
      "source": [
        "#GaussianNB\n",
        "model3 = GaussianNB()\n",
        "model3.fit(X_train, y_train)\n",
        "\n",
        "y_pred3 = model3.predict(X_test)\n",
        "\n",
        "print(classification_report(y_test, y_pred3))"
      ],
      "metadata": {
        "colab": {
          "base_uri": "https://localhost:8080/"
        },
        "id": "ef51xEg7A3Eg",
        "outputId": "e7c4a1f2-fbfc-42ca-8620-13a79ec338a8"
      },
      "execution_count": 9,
      "outputs": [
        {
          "output_type": "stream",
          "name": "stdout",
          "text": [
            "              precision    recall  f1-score   support\n",
            "\n",
            "           0       0.86      0.14      0.24       126\n",
            "           1       0.32      0.94      0.47        53\n",
            "\n",
            "    accuracy                           0.38       179\n",
            "   macro avg       0.59      0.54      0.36       179\n",
            "weighted avg       0.70      0.38      0.31       179\n",
            "\n"
          ]
        }
      ]
    },
    {
      "cell_type": "markdown",
      "source": [
        "####Optimizar"
      ],
      "metadata": {
        "id": "M2x7dx3CFx23"
      }
    },
    {
      "cell_type": "code",
      "source": [
        "#gridSearch\n",
        "param_grid = { 'alpha': np.linspace(0.1, 50, 200),\n",
        "               'fit_prior': [True, False],}\n",
        "\n",
        "grid_search = GridSearchCV(model, param_grid, cv=8, scoring= 'f1')\n",
        "grid_search.fit(X_train, y_train)\n",
        "print(\"Best hyperparameters:\", grid_search.best_params_)\n",
        "\n",
        "\n",
        "y_pred4 = grid_search.predict(X_test)\n",
        "\n",
        "print(classification_report(y_test, y_pred4))"
      ],
      "metadata": {
        "colab": {
          "base_uri": "https://localhost:8080/"
        },
        "id": "LsFusB1bFw3y",
        "outputId": "ce6ab21e-92b2-4ba0-f2a2-d2c7214073a7"
      },
      "execution_count": 10,
      "outputs": [
        {
          "output_type": "stream",
          "name": "stdout",
          "text": [
            "Best hyperparameters: {'alpha': 25.676884422110557, 'fit_prior': False}\n",
            "              precision    recall  f1-score   support\n",
            "\n",
            "           0       0.74      0.96      0.83       126\n",
            "           1       0.67      0.19      0.29        53\n",
            "\n",
            "    accuracy                           0.73       179\n",
            "   macro avg       0.70      0.57      0.56       179\n",
            "weighted avg       0.72      0.73      0.67       179\n",
            "\n"
          ]
        }
      ]
    },
    {
      "cell_type": "code",
      "source": [
        "#randomSearch\n",
        "param_dist = {'alpha': np.linspace(0.1, 50, 200),\n",
        "              'fit_prior': [True, False]}\n",
        "\n",
        "random_search = RandomizedSearchCV(estimator=model,param_distributions=param_dist,n_iter=200,cv=5, scoring='f1',random_state=42)\n",
        "random_search.fit(X_train, y_train)\n",
        "print(\"Mejores hiperparámetros:\", random_search.best_params_)\n",
        "\n",
        "\n",
        "y_pred5 = random_search.predict(X_test)\n",
        "\n",
        "print(classification_report(y_test, y_pred5))"
      ],
      "metadata": {
        "colab": {
          "base_uri": "https://localhost:8080/"
        },
        "id": "hasM2VK1KjZq",
        "outputId": "0425d4dd-ef3a-4f00-aa2a-9a8cd96b7e03"
      },
      "execution_count": 11,
      "outputs": [
        {
          "output_type": "stream",
          "name": "stdout",
          "text": [
            "Mejores hiperparámetros: {'fit_prior': False, 'alpha': 26.178391959798997}\n",
            "              precision    recall  f1-score   support\n",
            "\n",
            "           0       0.74      0.96      0.83       126\n",
            "           1       0.67      0.19      0.29        53\n",
            "\n",
            "    accuracy                           0.73       179\n",
            "   macro avg       0.70      0.57      0.56       179\n",
            "weighted avg       0.72      0.73      0.67       179\n",
            "\n"
          ]
        }
      ]
    },
    {
      "cell_type": "markdown",
      "source": [
        "####alternativa Logistic Regresion"
      ],
      "metadata": {
        "id": "sz8JYL5PM0lG"
      }
    },
    {
      "cell_type": "code",
      "source": [
        "def grid_lr(X_train, y_train):\n",
        "    model = LogisticRegression(random_state=666, max_iter=1000)\n",
        "    class_weight =  [{0:0.05, 1:0.95}, {0:0.1, 1:0.9}, {0:0.2, 1:0.8}]\n",
        "    solvers = ['liblinear']\n",
        "    penalty = ['l2','l1']\n",
        "    c_values = [ 10, 1.0, 0.1, 0.01, 0.001, ]\n",
        "    grid = dict(solver=solvers,penalty=penalty,C=c_values, class_weight= class_weight)\n",
        "    cv = RepeatedStratifiedKFold(n_splits=10, n_repeats=3, random_state=1)\n",
        "    grid_search = GridSearchCV(estimator=model, param_grid=grid, n_jobs=-1, cv=cv,\n",
        "                           scoring='accuracy',error_score='raise')\n",
        "    grid_result = grid_search.fit(X_train, y_train)\n",
        "    return  grid_result.best_estimator_"
      ],
      "metadata": {
        "id": "ZjL-werwNYNI"
      },
      "execution_count": 12,
      "outputs": []
    },
    {
      "cell_type": "code",
      "source": [
        "logistic_model = grid_lr(X_train, y_train)\n",
        "y_pred6 = logistic_model.predict(X_test)\n",
        "print(classification_report(y_test, y_pred6))"
      ],
      "metadata": {
        "colab": {
          "base_uri": "https://localhost:8080/"
        },
        "id": "tPDtQr6lN3dZ",
        "outputId": "9ad3ec87-835d-4717-b03f-efaabb55ca23"
      },
      "execution_count": 13,
      "outputs": [
        {
          "output_type": "stream",
          "name": "stdout",
          "text": [
            "              precision    recall  f1-score   support\n",
            "\n",
            "           0       0.72      0.98      0.83       126\n",
            "           1       0.62      0.09      0.16        53\n",
            "\n",
            "    accuracy                           0.72       179\n",
            "   macro avg       0.67      0.54      0.50       179\n",
            "weighted avg       0.69      0.72      0.63       179\n",
            "\n"
          ]
        }
      ]
    },
    {
      "cell_type": "markdown",
      "source": [
        "####alternativa SVM"
      ],
      "metadata": {
        "id": "m2agglnePIWe"
      }
    },
    {
      "cell_type": "code",
      "source": [
        "def grid_SVC(X_train, y_train, performance_metric='f1', resultsGrid=False):\n",
        "    model = SVC()\n",
        "    C = np.linspace(0.000001 , 1000, 10)\n",
        "    kernels = ['poly', 'rbf', 'linear', 'sigmoid']\n",
        "    gamma = ['scale', 'auto']\n",
        "    grid = dict(C = C, kernel = kernels, gamma = gamma)\n",
        "    cv = RepeatedStratifiedKFold(n_splits=5, n_repeats=1, random_state=1)\n",
        "    grid_search = GridSearchCV(estimator=model, param_grid=grid, n_jobs=-1, cv=cv,\n",
        "                           scoring=performance_metric,error_score='raise')\n",
        "    grid_result = grid_search.fit(X_train, y_train)\n",
        "    if resultsGrid==True:\n",
        "        return grid_result.cv_results_\n",
        "    else:\n",
        "        return  grid_result.best_estimator_"
      ],
      "metadata": {
        "id": "7M-6QZjJO5fL"
      },
      "execution_count": 14,
      "outputs": []
    },
    {
      "cell_type": "code",
      "source": [
        "SVM_model = grid_SVC(X_train, y_train)\n",
        "y_pred7 = SVM_model.predict(X_test)\n",
        "print(classification_report(y_test, y_pred7))"
      ],
      "metadata": {
        "id": "hzmh86eWPPnT",
        "colab": {
          "base_uri": "https://localhost:8080/"
        },
        "outputId": "fb0554a8-53e9-493d-91f7-6dfd4aa635c3"
      },
      "execution_count": 15,
      "outputs": [
        {
          "output_type": "stream",
          "name": "stdout",
          "text": [
            "              precision    recall  f1-score   support\n",
            "\n",
            "           0       1.00      0.02      0.03       126\n",
            "           1       0.30      1.00      0.46        53\n",
            "\n",
            "    accuracy                           0.31       179\n",
            "   macro avg       0.65      0.51      0.25       179\n",
            "weighted avg       0.79      0.31      0.16       179\n",
            "\n"
          ]
        }
      ]
    }
  ]
}